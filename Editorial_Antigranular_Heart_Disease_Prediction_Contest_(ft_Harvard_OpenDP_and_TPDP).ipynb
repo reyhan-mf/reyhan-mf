{
  "nbformat": 4,
  "nbformat_minor": 0,
  "metadata": {
    "colab": {
      "provenance": [],
      "include_colab_link": true
    },
    "kernelspec": {
      "name": "python3",
      "display_name": "Python 3"
    },
    "language_info": {
      "name": "python"
    }
  },
  "cells": [
    {
      "cell_type": "markdown",
      "metadata": {
        "id": "view-in-github",
        "colab_type": "text"
      },
      "source": [
        "<a href=\"https://colab.research.google.com/github/reyhan-mf/reyhan-mf/blob/main/Editorial_Antigranular_Heart_Disease_Prediction_Contest_(ft_Harvard_OpenDP_and_TPDP).ipynb\" target=\"_parent\"><img src=\"https://colab.research.google.com/assets/colab-badge.svg\" alt=\"Open In Colab\"/></a>"
      ]
    },
    {
      "cell_type": "markdown",
      "source": [
        "# 📊 **Antigranular** Heart Disease Prediction Contest (ft. **Harvard/OpenDP** and **TPDP**)\n",
        "\n",
        "🎉 Welcome to a new [Antigranular](https://antigranular.com) contest in collaboration with the [TPDP Workshop](https://tpdp.journalprivacyconfidentiality.org/2024/) and [Harvard's OpenDP Community Meeting](https://opendp.org/)!\n",
        "\n",
        "🩺 This time, we are focusing on [heart condition detection](https://en.wikipedia.org/wiki/Cardiovascular_disease) using our new [TensorFlow Privacy](https://github.com/tensorflow/privacy) and [Opacus (PyTorch)](https://opacus.ai/) models!\n",
        "\n",
        "🦜 Any questions? Head over to our [Discord](https://discord.com/invite/KJwApgXs4s)!\n",
        "\n"
      ],
      "metadata": {
        "id": "5az73vDZvCWg"
      }
    },
    {
      "cell_type": "markdown",
      "source": [
        "## 🏃‍♂️ Getting Started\n",
        "\n",
        "In this section we will download the antigranular package and login\n",
        "\n",
        "\n"
      ],
      "metadata": {
        "id": "BZ1S_Qc0v5hL"
      }
    },
    {
      "cell_type": "markdown",
      "source": [
        "### 📦 Install Antigranular\n",
        "\n",
        "This command installs the [Antigranular PyPI Package](https://pypi.org/project/antigranular/) on the local enviroment.\n"
      ],
      "metadata": {
        "id": "6_ISjJv_eppS"
      }
    },
    {
      "cell_type": "code",
      "execution_count": 1,
      "metadata": {
        "id": "5uFCyt-Puq4K"
      },
      "outputs": [],
      "source": [
        "# Install the Antigranular package\n",
        "!pip install antigranular &> /dev/null"
      ]
    },
    {
      "cell_type": "markdown",
      "source": [
        "### ✍ Login to the Enclave\n",
        "\n",
        "Head over to [Competitions](https://www.antigranular.com/competitions) to find your `<user_id>`, `<user_secret>` and the competition's name and copy that command here.\n",
        "\n",
        "![img](https://docs.antigranular.com/shots/comp_cell.png)"
      ],
      "metadata": {
        "id": "v7jLQa6Uehks"
      }
    },
    {
      "cell_type": "code",
      "source": [
        "import antigranular as ag\n",
        "session = ag.login(\"fEdjt9m5vZoefm/ISSdxmlt8elAMURSZ\", \"NlPUzhwQsJo9v7HafhMCDY6CX62ippps9/LmZHbh3goMW8lQm8U6zrM2+D1yOxme\", competition = \"Heart Disease Prediction Hackathon\")"
      ],
      "metadata": {
        "colab": {
          "base_uri": "https://localhost:8080/",
          "height": 191
        },
        "id": "w_JcMMSMv_Ze",
        "outputId": "44512bff-d9d6-4ffc-a3de-5afc7bed7d47"
      },
      "execution_count": 2,
      "outputs": [
        {
          "output_type": "display_data",
          "data": {
            "text/plain": [
              "<IPython.core.display.HTML object>"
            ],
            "text/html": []
          },
          "metadata": {}
        },
        {
          "output_type": "stream",
          "name": "stdout",
          "text": [
            "Dataset \"Heart Disease Prediction Hackathon Dataset\" loaded to the kernel as \u001b[92mheart_disease_prediction_hackathon_dataset\u001b[0m\n",
            "Key Name                       Value Type     \n",
            "---------------------------------------------\n",
            "train_y                        PrivateDataFrame\n",
            "train_x                        PrivateDataFrame\n",
            "test_x                         DataFrame      \n",
            "\n",
            "Connected to Antigranular server session id: 3d2f0a93-3268-4c62-92d6-4906b3accad5, the session will time out if idle for 25 minutes\n",
            "Cell magic '%%ag' registered successfully, use `%%ag` in a notebook cell to execute your python code on Antigranular private python server\n",
            "🚀 Everything's set up and ready to roll!\n"
          ]
        }
      ]
    },
    {
      "cell_type": "markdown",
      "source": [
        "### 🤖 Using AG\n",
        "\n",
        "You can now simply use ``%%ag`` to run code on an enclave! You can always head over to our [Docs](https://docs.antigranular.com/) to learn more about AG, but for now, we can define train and test variables as follows."
      ],
      "metadata": {
        "id": "Jeg6W7fPNHhS"
      }
    },
    {
      "cell_type": "code",
      "source": [
        "%%ag\n",
        "x_train = heart_disease_prediction_hackathon_dataset[\"train_x\"]\n",
        "y_train = heart_disease_prediction_hackathon_dataset[\"train_y\"]\n",
        "x_test = heart_disease_prediction_hackathon_dataset[\"test_x\"]"
      ],
      "metadata": {
        "id": "8IHVwjFKk2Ys"
      },
      "execution_count": 3,
      "outputs": []
    },
    {
      "cell_type": "markdown",
      "source": [
        "### 🕵️‍♂️ Exploring data\n",
        "\n",
        "Exploring data in Antigranular involves spending your epsilon budget, be mindful of your usage but remember that the less epsilon you use, the less accurate your results will get!"
      ],
      "metadata": {
        "id": "4oMW3Eh8RDl4"
      }
    },
    {
      "cell_type": "code",
      "source": [
        "%%ag\n",
        "x_train.info()"
      ],
      "metadata": {
        "colab": {
          "base_uri": "https://localhost:8080/"
        },
        "id": "PMiVe3n_t4um",
        "outputId": "f0ac5440-a835-45f2-db58-fc6eb14e339c"
      },
      "execution_count": 6,
      "outputs": [
        {
          "output_type": "stream",
          "name": "stdout",
          "text": [
            "+----+----------+-------------+---------------+---------+------------+\n",
            "|    | Column   | numerical   | categorical   | dtype   | bounds     |\n",
            "|----+----------+-------------+---------------+---------+------------|\n",
            "|  0 | age      | True        | False         | int64   | (21, 86)   |\n",
            "|  1 | sex      | True        | False         | int64   | (0, 1)     |\n",
            "|  2 | bp       | True        | False         | int64   | (80, 215)  |\n",
            "|  3 | ch       | True        | False         | int64   | (102, 597) |\n",
            "|  4 | bs       | True        | False         | int64   | (67, 157)  |\n",
            "|  5 | phr      | True        | False         | int64   | (62, 222)  |\n",
            "+----+----------+-------------+---------------+---------+------------+\n",
            "\n"
          ]
        }
      ]
    },
    {
      "cell_type": "code",
      "source": [
        "%%ag\n",
        "y_train.info()"
      ],
      "metadata": {
        "colab": {
          "base_uri": "https://localhost:8080/"
        },
        "id": "iG3HnW1Ut8X2",
        "outputId": "94d75a92-bf98-4818-9636-2816c017e57f"
      },
      "execution_count": 11,
      "outputs": [
        {
          "output_type": "stream",
          "name": "stdout",
          "text": [
            "+----+-----------+-------------+---------------+---------+----------+\n",
            "|    | Column    | numerical   | categorical   | dtype   | bounds   |\n",
            "|----+-----------+-------------+---------------+---------+----------|\n",
            "|  0 | condition | True        | False         | int64   | (0, 1)   |\n",
            "+----+-----------+-------------+---------------+---------+----------+\n",
            "\n"
          ]
        }
      ]
    },
    {
      "cell_type": "code",
      "source": [
        "%%ag\n",
        "# We can start by exploring the data, carefully using our epsilon\n",
        "describe = x_train.describe(eps=0.1)\n",
        "ag_print(describe)"
      ],
      "metadata": {
        "colab": {
          "base_uri": "https://localhost:8080/"
        },
        "id": "4QNyLhdXmYs5",
        "outputId": "76f614ed-40e5-4b09-b049-f3fb040d9ccc"
      },
      "execution_count": 12,
      "outputs": [
        {
          "output_type": "stream",
          "name": "stdout",
          "text": [
            "               age          sex  ...           bs          phr\n",
            "count  7695.000000  7752.000000  ...  7899.000000  8942.000000\n",
            "mean     61.946775     0.622969  ...   104.820724   136.874356\n",
            "std       8.565136     0.357713  ...    17.930347    17.454178\n",
            "min      21.000000     0.000000  ...    67.000000    62.000000\n",
            "25%      42.913354     0.420733  ...    80.603841   132.972221\n",
            "50%      60.839196     0.951897  ...    97.487650   144.750982\n",
            "75%      60.285386     0.970305  ...   131.634379   183.124354\n",
            "max      58.928956     0.969281  ...   127.226633   189.291690\n",
            "\n",
            "[8 rows x 6 columns]\n",
            "\n"
          ]
        }
      ]
    },
    {
      "cell_type": "code",
      "source": [
        "%%ag\n",
        "# We can start by exploring the data, carefully using our epsilon\n",
        "describe = y_train.describe(eps=0.1)\n",
        "ag_print(describe)"
      ],
      "metadata": {
        "colab": {
          "base_uri": "https://localhost:8080/"
        },
        "id": "GJ4MX9Ghs2z6",
        "outputId": "7b954d37-0bf9-42f7-b6de-1821f69b9ed1"
      },
      "execution_count": 13,
      "outputs": [
        {
          "output_type": "stream",
          "name": "stdout",
          "text": [
            "         condition\n",
            "count  7971.000000\n",
            "mean      0.536517\n",
            "std       0.483828\n",
            "min       0.000000\n",
            "25%       0.006343\n",
            "50%       0.302440\n",
            "75%       0.995573\n",
            "max       0.970229\n",
            "\n"
          ]
        }
      ]
    },
    {
      "cell_type": "code",
      "source": [
        "%%ag\n",
        "# x_test is a public test set, so we can print it without using epsilon\n",
        "ag_print(x_test)"
      ],
      "metadata": {
        "colab": {
          "base_uri": "https://localhost:8080/"
        },
        "id": "OymOmMhqmzpK",
        "outputId": "006f4f02-1d56-4039-9618-c1c76e0d4491"
      },
      "execution_count": 14,
      "outputs": [
        {
          "output_type": "stream",
          "name": "stdout",
          "text": [
            "      age  sex   bp   ch   bs  phr\n",
            "0      71    1  128  326   95  117\n",
            "1      61    1  153  270   98  123\n",
            "2      59    1  113  236  106  181\n",
            "3      69    0  109  151  109  108\n",
            "4      55    0  137  235  101  150\n",
            "...   ...  ...  ...  ...  ...  ...\n",
            "1995   60    1  128  261  112  143\n",
            "1996   50    1  143  216   94  100\n",
            "1997   64    1  120  172   87  142\n",
            "1998   56    1  158  294   82  144\n",
            "1999   69    0  117  559  112  157\n",
            "\n",
            "[2000 rows x 6 columns]\n",
            "\n"
          ]
        }
      ]
    },
    {
      "cell_type": "code",
      "source": [],
      "metadata": {
        "colab": {
          "base_uri": "https://localhost:8080/"
        },
        "id": "b78JYXMDV9Fg",
        "outputId": "872b02b1-e2c3-482f-e3c5-6801c83da39f"
      },
      "execution_count": 33,
      "outputs": [
        {
          "output_type": "execute_result",
          "data": {
            "text/plain": [
              "0.5505"
            ]
          },
          "metadata": {},
          "execution_count": 33
        }
      ]
    },
    {
      "cell_type": "markdown",
      "source": [
        "### 🎈 A quick solution\n",
        "\n",
        "In this section we evaluate an editorial solution in AG using TensorFlow!"
      ],
      "metadata": {
        "id": "KARrFlm5pOB6"
      }
    },
    {
      "cell_type": "code",
      "source": [
        "%%ag\n",
        "import tensorflow as tf\n",
        "from op_pandas import standard_scaler, PrivateDataFrame\n",
        "from tensorflow.keras.models import Sequential\n",
        "from tensorflow.keras.layers import Dense, Dropout, BatchNormalization\n",
        "from op_tensorflow import PrivateKerasModel, PrivateDataLoader\n",
        "\n",
        "seqM = Sequential([\n",
        "    Dense(32, activation='relu', input_shape=(6,)),\n",
        "    BatchNormalization(),\n",
        "    Dropout(0.2),\n",
        "    Dense(64, activation='relu'),\n",
        "    BatchNormalization(),\n",
        "    Dropout(0.2),\n",
        "    Dense(1, activation='sigmoid')  # Binary classification\n",
        "])\n",
        "\n",
        "# Create DP keras model\n",
        "dp_model = PrivateKerasModel(model=seqM, l2_norm_clip=1.5, noise_multiplier=0.8)\n",
        "\n",
        "# Use a learning rate scheduler\n",
        "def lr_schedule(epoch):\n",
        "    return 0.001 * (0.1 ** int(epoch / 10))\n",
        "\n",
        "lr_scheduler = tf.keras.callbacks.LearningRateScheduler(lr_schedule)\n",
        "\n",
        "optimizer = tf.keras.optimizers.Adam(learning_rate=0.001)\n",
        "\n",
        "# PrivateKerasModel uses similar API as standard Keras\n",
        "dp_model.compile(\n",
        "    optimizer=optimizer,\n",
        "    loss='binary_crossentropy',\n",
        "    metrics=[\"accuracy\"]\n",
        ")\n"
      ],
      "metadata": {
        "id": "QVMog5sFunqk"
      },
      "execution_count": 72,
      "outputs": []
    },
    {
      "cell_type": "code",
      "source": [
        "%%ag\n",
        "x_train_scaled = standard_scaler(x_train, eps=.1)\n",
        "x_train_scaled.info()"
      ],
      "metadata": {
        "colab": {
          "base_uri": "https://localhost:8080/"
        },
        "id": "CtZnkEIGu4Oy",
        "outputId": "2d1e445a-6480-4edf-eba8-0a85e032633d"
      },
      "execution_count": 73,
      "outputs": [
        {
          "output_type": "stream",
          "name": "stdout",
          "text": [
            "+----+----------+-------------+---------------+---------+------------------------------------------+\n",
            "|    | Column   | numerical   | categorical   | dtype   | bounds                                   |\n",
            "|----+----------+-------------+---------------+---------+------------------------------------------|\n",
            "|  0 | age      | True        | False         | float64 | (-5.036653324423086, 4.626091810823674)  |\n",
            "|  1 | sex      | True        | False         | float64 | (-1.4570691893922267,                    |\n",
            "|    |          |             |               |         | 0.6950163449540622)                      |\n",
            "|  2 | bp       | True        | False         | float64 | (-2.3828568800839087, 3.704169925070209) |\n",
            "|  3 | ch       | True        | False         | float64 | (-1.4030797485122417, 3.782606722815023) |\n",
            "|  4 | bs       | True        | False         | float64 | (-1.9080174880954714, 2.763831218278033) |\n",
            "|  5 | phr      | True        | False         | float64 | (-2.1770312705313524, 1.811025143069256) |\n",
            "+----+----------+-------------+---------------+---------+------------------------------------------+\n",
            "\n"
          ]
        }
      ]
    },
    {
      "cell_type": "code",
      "source": [
        "%%ag\n",
        "data_loader = PrivateDataLoader(feature_df=x_train_scaled , label_df=y_train, batch_size=32)"
      ],
      "metadata": {
        "id": "-IRE6nbYvcw7"
      },
      "execution_count": 74,
      "outputs": []
    },
    {
      "cell_type": "code",
      "source": [
        "%%ag\n",
        "dp_model.fit(x=data_loader, epochs=4, target_delta=1e-5)"
      ],
      "metadata": {
        "colab": {
          "base_uri": "https://localhost:8080/"
        },
        "id": "K5Px3PPFSvdO",
        "outputId": "6008199a-6e50-40d2-b84d-22532552a034"
      },
      "execution_count": 81,
      "outputs": [
        {
          "output_type": "stream",
          "name": "stdout",
          "text": [
            "Epoch 1/4\n",
            "\n",
            "250/250 - 4s - loss: 0.4305 - accuracy: 0.7982 - 4s/epoch - 17ms/step\n",
            "\n",
            "Epoch 2/4\n",
            "\n",
            "250/250 - 4s - loss: 0.4388 - accuracy: 0.7898 - 4s/epoch - 17ms/step\n",
            "\n",
            "Epoch 3/4\n",
            "\n",
            "250/250 - 4s - loss: 0.4134 - accuracy: 0.8072 - 4s/epoch - 17ms/step\n",
            "\n",
            "Epoch 4/4\n",
            "\n",
            "250/250 - 4s - loss: 0.4069 - accuracy: 0.8099 - 4s/epoch - 18ms/step\n",
            "\n",
            "message: Error ID is - c8a2979a-6e72-4ba1-a50d-7c8bca0e7f83 - Error from upstream service: Client error '400 Bad Request' for url 'http://supervisor-prod-private.antigranular.com/privacyRequest'\n",
            "For more information check: https://httpstatuses.com/400. Response text: {\"detail\":\"Maximum delta or epsilon exceeded per query. Per query limits are eps : 1 and delta : 1\"}\n",
            "\n",
            "message: Error ID is - 414bca15-e037-432b-ab8d-9dda8be6c38d - Error from upstream service: Client error '400 Bad Request' for url 'http://supervisor-prod-private.antigranular.com/privacyRequest'\n",
            "For more information check: https://httpstatuses.com/400. Response text: {\"detail\":\"Maximum delta or epsilon exceeded per query. Per query limits are eps : 1 and delta : 1\"}\n",
            "\n",
            "\u001b[0;31mValueError\u001b[0m: Request Limit Exceeded!\n"
          ]
        }
      ]
    },
    {
      "cell_type": "code",
      "source": [
        "%%ag\n",
        "dp_model.fit(x=data_loader, epochs=5, target_delta=1e-5)"
      ],
      "metadata": {
        "colab": {
          "base_uri": "https://localhost:8080/"
        },
        "id": "BkYeXE1nv0EL",
        "outputId": "13e357f7-0663-45bd-88ab-b6124beeaf85"
      },
      "execution_count": null,
      "outputs": [
        {
          "output_type": "stream",
          "name": "stdout",
          "text": [
            "Epoch 1/5\n",
            "\n",
            "2000/2000 - 31s - loss: 0.5626 - accuracy: 0.7028 - 31s/epoch - 16ms/step\n",
            "\n",
            "Epoch 2/5\n",
            "\n",
            "2000/2000 - 29s - loss: 0.5405 - accuracy: 0.7219 - 29s/epoch - 14ms/step\n",
            "\n",
            "Epoch 3/5\n",
            "\n",
            "2000/2000 - 29s - loss: 0.5194 - accuracy: 0.7260 - 29s/epoch - 14ms/step\n",
            "\n",
            "Epoch 4/5\n",
            "\n",
            "2000/2000 - 28s - loss: 0.5004 - accuracy: 0.7398 - 28s/epoch - 14ms/step\n",
            "\n",
            "Epoch 5/5\n",
            "\n",
            "2000/2000 - 30s - loss: 0.4888 - accuracy: 0.7496 - 30s/epoch - 15ms/step\n",
            "\n"
          ]
        }
      ]
    },
    {
      "cell_type": "code",
      "source": [
        "%%ag\n",
        "x_test_scaler = standard_scaler(PrivateDataFrame(x_test), eps=.1)\n",
        "y_pred = dp_model.predict(x_test_scaler, label_columns=[\"output\"])"
      ],
      "metadata": {
        "colab": {
          "base_uri": "https://localhost:8080/"
        },
        "id": "dt_0vemmvq17",
        "outputId": "efe389b7-636a-4c01-ccfb-fceafd5e31ba"
      },
      "execution_count": 76,
      "outputs": [
        {
          "output_type": "stream",
          "name": "stdout",
          "text": [
            "\r 1/63 [..............................] - ETA: 18s\n",
            "\b\b\b\b\b\b\b\b\b\b\b\b\b\b\b\b\b\b\b\b\b\b\b\b\b\b\b\b\b\b\b\b\b\b\b\b\b\b\b\b\b\b\b\b\b\b\b\b\b\r 8/63 [==>...........................] - ETA: 0s \n",
            "\b\b\b\b\b\b\b\b\b\b\b\b\b\b\b\b\b\b\b\b\b\b\b\b\b\b\b\b\b\b\b\b\b\b\b\b\b\b\b\b\b\b\b\b\b\b\b\b\r22/63 [=========>....................] - ETA: 0s\n",
            "\b\b\b\b\b\b\b\b\b\b\b\b\b\b\b\b\b\b\b\b\b\b\b\b\b\b\b\b\b\b\b\b\b\b\b\b\b\b\b\b\b\b\b\b\b\b\b\b\r37/63 [================>.............] - ETA: 0s\n",
            "\b\b\b\b\b\b\b\b\b\b\b\b\b\b\b\b\b\b\b\b\b\b\b\b\b\b\b\b\b\b\b\b\b\b\b\b\b\b\b\b\b\b\b\b\b\b\b\b\r52/63 [=======================>......] - ETA: 0s\n",
            "\b\b\b\b\b\b\b\b\b\b\b\b\b\b\b\b\b\b\b\b\b\b\b\b\b\b\b\b\b\b\b\b\b\b\b\b\b\b\b\b\b\b\b\b\b\b\b\b\r63/63 [==============================] - 1s 7ms/step\n",
            "\n"
          ]
        }
      ]
    },
    {
      "cell_type": "code",
      "source": [
        "%%ag\n",
        "# Note that the predictions are a float scalar\n",
        "# so we scale it\n",
        "def f(x: float) -> float:\n",
        "  if x > 0.5:\n",
        "    return 1\n",
        "  else:\n",
        "    return 0\n",
        "\n",
        "y_pred[\"output\"] = y_pred[\"output\"].map(f, output_bounds=(0, 1))"
      ],
      "metadata": {
        "id": "mJMoynKBAwMB"
      },
      "execution_count": 78,
      "outputs": []
    },
    {
      "cell_type": "markdown",
      "source": [
        "### 📝 Make your submission (Through AG)\n",
        "\n",
        "Submit a prediction by simply typing `submit_predictions(your_prediction)` to find out how you rank on the leaderboard.\n",
        "\n",
        "![img](https://www.antigranular.com/static/media/Step%209.8091828f3cff4324fe6d.png)\n"
      ],
      "metadata": {
        "id": "8K19wo42GvcM"
      }
    },
    {
      "cell_type": "code",
      "source": [
        "%%ag\n",
        "result = submit_predictions(y_pred)"
      ],
      "metadata": {
        "colab": {
          "base_uri": "https://localhost:8080/"
        },
        "id": "ikoa-r-Ky79A",
        "outputId": "2a5c0f63-fb81-4453-d411-36b9e66f3465"
      },
      "execution_count": 79,
      "outputs": [
        {
          "output_type": "stream",
          "name": "stdout",
          "text": [
            "score: {'leaderboard': 0.6284638700752223, 'logs': {'BIN_ACC': 0.6506948203313454, 'LIN_EPS': -0.02223095025612314}}\n",
            "\n"
          ]
        }
      ]
    },
    {
      "cell_type": "markdown",
      "source": [
        "### 🎈 Another quick solution\n",
        "\n",
        "In this section we evaluate an editorial solution in AG using Diffprivlib!"
      ],
      "metadata": {
        "id": "hzIEcXX6unAN"
      }
    },
    {
      "cell_type": "code",
      "source": [
        "%%ag\n",
        "# We can follow by importing the OP (\"Oblivious Private\") version of diffprivlib\n",
        "from op_diffprivlib.models import LogisticRegression"
      ],
      "metadata": {
        "id": "G4ek0zLhmqNm"
      },
      "execution_count": 24,
      "outputs": []
    },
    {
      "cell_type": "code",
      "source": [
        "%%ag\n",
        "# We can generate a quick regression using epsilon\n",
        "reg = LogisticRegression(epsilon=0.1, data_norm=3)\n",
        "\n",
        "# Fit it with 3 of the SNP predictors\n",
        "reg.fit(x_train[[\"age\", \"sex\", \"bp\", \"ch\", \"bs\", \"phr\"]], y_train)"
      ],
      "metadata": {
        "id": "p3ECSjJzSX3l",
        "colab": {
          "base_uri": "https://localhost:8080/"
        },
        "outputId": "aa749adf-f6d2-4628-cf97-0625c3599904"
      },
      "execution_count": 25,
      "outputs": [
        {
          "output_type": "stream",
          "name": "stderr",
          "text": [
            "/code/dependencies/ag_wrapper/ag_wrapper/wrapper.py:129: UserWarning: Bounds estimation epsilon is set to 0.1. It wont be charged until a private dataframe / series ispassed to predict or transform methods.\n",
            "  warnings.warn(f\"Bounds estimation epsilon is set to {bounds_estimation_eps}. It wont be charged until \"\n",
            "/usr/local/lib/python3.10/site-packages/sklearn/utils/validation.py:1310: DataConversionWarning: A column-vector y was passed when a 1d array was expected. Please change the shape of y to (n_samples, ), for example using ravel().\n",
            "  y = column_or_1d(y, warn=True)\n",
            "\n"
          ]
        }
      ]
    },
    {
      "cell_type": "code",
      "source": [
        "%%ag\n",
        "# Predict with the same features\n",
        "y_pred = reg.predict(x_test[[\"age\", \"sex\", \"bp\", \"ch\", \"bs\", \"phr\"]])\n",
        "\n",
        "# Print the result\n",
        "ag_print(y_pred)"
      ],
      "metadata": {
        "id": "cMn0AhQpnI5f",
        "colab": {
          "base_uri": "https://localhost:8080/"
        },
        "outputId": "b3ce729d-a27b-4134-be2a-a34481be3e78"
      },
      "execution_count": 26,
      "outputs": [
        {
          "output_type": "stream",
          "name": "stdout",
          "text": [
            "[1 1 1 ... 1 1 1]\n",
            "\n"
          ]
        },
        {
          "output_type": "stream",
          "name": "stderr",
          "text": [
            "/usr/local/lib/python3.10/site-packages/sklearn/base.py:486: UserWarning: X has feature names, but LogisticRegression was fitted without feature names\n",
            "  warnings.warn(\n",
            "\n"
          ]
        }
      ]
    },
    {
      "cell_type": "markdown",
      "source": [
        "### 📩 Export your prediction\n",
        "\n",
        "We take the prediciton out of AG to later send it to the leaderboards."
      ],
      "metadata": {
        "id": "0r7em_XGnsyD"
      }
    },
    {
      "cell_type": "code",
      "source": [
        "%%ag\n",
        "# Submit prediction\n",
        "result = submit_predictions((y_pred))"
      ],
      "metadata": {
        "id": "O7uUnjkhnz61",
        "colab": {
          "base_uri": "https://localhost:8080/"
        },
        "outputId": "967ebae9-53ab-421f-e2d3-f0d2968bb4a1"
      },
      "execution_count": 48,
      "outputs": [
        {
          "output_type": "stream",
          "name": "stdout",
          "text": [
            "error: Last submission done under 5 minutes ago\n",
            "\n"
          ]
        }
      ]
    },
    {
      "cell_type": "markdown",
      "source": [
        "### 🎉 That's it!\n",
        "\n",
        "Congrats! You made your first submission to the competition! Now it's time to keep exploring the data and to try to achieve a better score! Here are the next steps:\n",
        "\n",
        "\n",
        "1.  🏫 Head over to our [Docs](https://docs.antigranular.com/) and discover Opacus (PyTorch), TensorFlow Privacy and other libraries available in Antigranular!\n",
        "2. 🦜 Any questions? Head over to our [Discord](https://discord.com/invite/KJwApgXs4s)!\n",
        "\n",
        "We hope you have fun and enjoy the competition!\n",
        "\n",
        "Best of luck,\n",
        "\n",
        "Antigranular Team"
      ],
      "metadata": {
        "id": "-fzPowmzpTf_"
      }
    }
  ]
}